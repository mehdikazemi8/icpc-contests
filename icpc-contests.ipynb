{
 "cells": [
  {
   "cell_type": "code",
   "execution_count": 1,
   "metadata": {},
   "outputs": [],
   "source": [
    "from data import df_columns, data"
   ]
  },
  {
   "cell_type": "code",
   "execution_count": 2,
   "metadata": {},
   "outputs": [],
   "source": [
    "import matplotlib.pyplot as plt\n",
    "\n",
    "def create_bar_chart(x, y, xlabel, ylabel, title=\"\"):\n",
    "    h = plt.bar(x, y)\n",
    "    plt.xlabel(xlabel)\n",
    "    plt.ylabel(ylabel)\n",
    "    plt.ylim(0, max(y) + 10)\n",
    "    plt.title(title)\n",
    "    \n",
    "    for i in range(len(x)):\n",
    "        year_value, count = x[i], y[i]\n",
    "        plt.text(year_value, count+2, str(count), ha='center')\n",
    "\n",
    "    plt.show()\n",
    "    "
   ]
  },
  {
   "cell_type": "code",
   "execution_count": 3,
   "metadata": {},
   "outputs": [
    {
     "data": {
      "image/png": "[encoded data removed]",
      "text/plain": [
       "<Figure size 432x288 with 1 Axes>"
      ]
     },
     "metadata": {
      "needs_background": "light"
     },
     "output_type": "display_data"
    }
   ],
   "source": [
    "years = list(data.keys())\n",
    "number_of_teams = [len(value) for key, value in data.items()]\n",
    "create_bar_chart(years, number_of_teams, \"Year\", \"Number of teams\", \"Growth # of teams\")"
   ]
  },
  {
   "cell_type": "code",
   "execution_count": 4,
   "metadata": {},
   "outputs": [
    {
     "name": "stdout",
     "output_type": "stream",
     "text": [
      "How each row looks like?\n",
      "[1, 'Sharif University of Technology: Cliché\\n', 9, 1206, 77, ['1/4', 'yes'], ['1/9', 'yes'], ['1/--', 'no'], ['1/171', 'yes'], ['2/27', 'yes first'], 0, ['1/241', 'yes'], ['1/37', 'yes first'], ['2/261', 'yes'], ['3/229', 'yes'], ['3/107', 'yes first'], ['16/9', '']]\n",
      "[15, 'Kharazmi University: Bits Please.\\n', 3, 385, 35, ['1/3', 'yes'], ['2/24', 'yes'], 0, ['1/--', 'no'], ['6/--', 'no'], 0, 0, ['4/278', 'yes'], 0, 0, 0, ['14/3', '']]\n"
     ]
    }
   ],
   "source": [
    "print(\"How each row looks like?\")\n",
    "print(data[2017][0])\n",
    "print(data[2017][30])\n",
    "# team_ranking, university_name_team_name, solved, penalty, dont_know, submissions..."
   ]
  },
  {
   "cell_type": "code",
   "execution_count": 5,
   "metadata": {},
   "outputs": [],
   "source": [
    "def get_attempts(s):\n",
    "    return int(s.split('/')[0])\n",
    "\n",
    "def get_accept_time(s):\n",
    "    accept_time = s.split('/')[1]\n",
    "    if accept_time.isdigit():\n",
    "        return int(accept_time)\n",
    "    else:\n",
    "        return 0\n",
    "\n",
    "def get_name(s):\n",
    "    s = s.strip()\n",
    "    point_idx = s.strip().find(':')\n",
    "    return s[point_idx+2:].strip()\n",
    "\n",
    "def get_university(s):\n",
    "    s = s.strip()\n",
    "    point_idx = s.strip().find(':')\n",
    "    return s[:point_idx].strip()\n",
    "    \n",
    "class Submission:\n",
    "    def __init__(self, sub):\n",
    "        if sub == 0:\n",
    "            self.accepted = False\n",
    "            self.attempts = 0\n",
    "            self.accept_time = 0\n",
    "        else:\n",
    "            self.accepted = sub[1] != 'no'\n",
    "            self.attempts = get_attempts(sub[0])\n",
    "            self.accept_time = get_accept_time(sub[0])\n",
    "            \n",
    "    def get_accept_time(self):\n",
    "        return self.accept_time\n",
    "            \n",
    "    def __str__(self):\n",
    "        return \"Attempts:{}, Accepted:{}, Accept Time:{}\".format(self.attempts, self.accepted, self.accept_time)\n",
    "    \n",
    "class Team:\n",
    "    def __init__(self, row):\n",
    "        self.ranking = row[0]\n",
    "        self.name = get_name(row[1])\n",
    "        self.university = get_university(row[1])\n",
    "        self.solved = row[2]\n",
    "        self.penalty = row[3]\n",
    "        self.submissions = [Submission(x) for x in row[5:]]\n",
    "        \n",
    "    def __str__(self):\n",
    "        return self.name\n",
    "    \n",
    "    def set_name(self, name):\n",
    "        self.name = name\n",
    "        \n",
    "    def get_name(self):\n",
    "        return self.name\n",
    "        \n",
    "    def set_university(self, university):\n",
    "        self.university = university\n",
    "    \n",
    "    def get_university(self):\n",
    "        return self.university\n",
    "    \n",
    "    def get_solved(self):\n",
    "        return self.solved\n",
    "    \n",
    "    def get_penalty(self):\n",
    "        return self.penalty\n",
    "    \n",
    "    def get_submissions(self):\n",
    "        return self.submissions"
   ]
  },
  {
   "cell_type": "code",
   "execution_count": 6,
   "metadata": {},
   "outputs": [
    {
     "name": "stdout",
     "output_type": "stream",
     "text": [
      "Attempts:1, Accepted:True, Accept Time:8\n",
      "Attempts:10, Accepted:False, Accept Time:0\n"
     ]
    }
   ],
   "source": [
    "s1 = Submission([\"1/8\", 'yes'])\n",
    "s2 = Submission([\"10/--\", 'no'])\n",
    "print(s1)\n",
    "print(s2)"
   ]
  },
  {
   "cell_type": "code",
   "execution_count": 7,
   "metadata": {},
   "outputs": [
    {
     "name": "stdout",
     "output_type": "stream",
     "text": [
      "Bits Please.\n"
     ]
    }
   ],
   "source": [
    "t1 = Team([15, 'Kharazmi University: Bits Please.\\n', 3, 385, 35, ['1/3', 'yes'], ['2/24', 'yes'], 0, ['1/--', 'no'], ['6/--', 'no'], 0, 0, ['4/278', 'yes'], 0, 0, 0, ['14/3', '']])\n",
    "print(t1)"
   ]
  },
  {
   "cell_type": "code",
   "execution_count": 8,
   "metadata": {},
   "outputs": [],
   "source": [
    "import pandas as pd\n",
    "\n",
    "class Contest:\n",
    "    def __init__(self, year, teams):\n",
    "        self.year = year\n",
    "        self.teams = [Team(t) for t in teams]\n",
    "    \n",
    "    def __str__(self):\n",
    "        return str(self.year)\n",
    "    \n",
    "    def get_unique_university_names(self):\n",
    "        return {t.university for t in self.teams}\n",
    "    \n",
    "    def get_year(self):\n",
    "        return self.year\n",
    "    \n",
    "    def update_university_names(self, university_name_handler):\n",
    "        for t in self.teams:\n",
    "            t.set_university(university_name_handler(t.get_university()))\n",
    "    \n",
    "    def __repr__(self):\n",
    "        return str(self.year) + \" -> \" + str([str(t) for t in self.teams]) + \"\\n\"\n",
    "    \n",
    "    def get_df(self):\n",
    "        df = pd.DataFrame(columns=df_columns)\n",
    "        team_ranking = 1\n",
    "        for t in self.teams:\n",
    "            team_data = {'year':[self.year], 'ranking': [team_ranking], 'name': [t.get_name()], 'university': [t.get_university()], 'solved': [t.get_solved()], \n",
    "                        'penalty': [t.get_penalty()]}\n",
    "            problem = 'a'\n",
    "            for s in t.get_submissions():\n",
    "                team_data[\"p{}_time\".format(problem)] = [s.get_accept_time()]\n",
    "                problem = chr(ord(problem) + 1)\n",
    "                \n",
    "            df = df.append(pd.DataFrame(data=team_data, columns=df_columns), ignore_index=True)            \n",
    "            team_ranking += 1\n",
    "            \n",
    "        print(df.head())\n",
    "        \n",
    "        return df\n",
    "        "
   ]
  },
  {
   "cell_type": "code",
   "execution_count": 9,
   "metadata": {},
   "outputs": [
    {
     "data": {
      "image/png": "[encoded data removed]",
      "text/plain": [
       "<Figure size 432x288 with 1 Axes>"
      ]
     },
     "metadata": {
      "needs_background": "light"
     },
     "output_type": "display_data"
    }
   ],
   "source": [
    "contests = [Contest(year=key, teams=value) for key, value in data.items()]\n",
    "years = [c.get_year() for c in contests]\n",
    "nunique_universities = [len(c.get_unique_university_names()) for c in contests]\n",
    "create_bar_chart(years, nunique_universities, \"Year\", \"Number of unique universities\", \"Growth # of unique universities\")"
   ]
  },
  {
   "cell_type": "code",
   "execution_count": 10,
   "metadata": {},
   "outputs": [],
   "source": [
    "# printing all university names, for further exploration and removing duplicate names\n",
    "\n",
    "all_universities = []\n",
    "for c in contests:\n",
    "    all_universities.extend( list(c.get_unique_university_names()) )\n",
    "all_universities = set(all_universities)\n",
    "\n",
    "#for t in sorted(all_universities):\n",
    "#    print(\"['{}'],\".format(t))\n"
   ]
  },
  {
   "cell_type": "code",
   "execution_count": 11,
   "metadata": {},
   "outputs": [
    {
     "name": "stdout",
     "output_type": "stream",
     "text": [
      "Number of unique universities over years : 84\n"
     ]
    }
   ],
   "source": [
    "from universities import universities\n",
    "print(\"Number of unique universities over years : {}\".format(len(universities)))"
   ]
  },
  {
   "cell_type": "code",
   "execution_count": 12,
   "metadata": {},
   "outputs": [
    {
     "name": "stdout",
     "output_type": "stream",
     "text": [
      "True\n",
      "['Alzahra University', 'Amirkabir University of Technology', 'Azad U of Tehran Center', 'Azad U of Tehran South', 'Azarbijan Shahid Madani U']\n",
      "False\n",
      "False\n",
      "['Alzahra University', 'Amirkabir University of Technology', 'Birjand University', 'Bu-Ali Sina University', 'Ferdowsi University of Mashhad']\n",
      "False\n",
      "False\n",
      "['Alzahra University', 'Amirkabir University of Technology', 'Birjand University', 'Bu-Ali Sina University', 'Fasa University']\n",
      "False\n",
      "False\n",
      "['Alzahra University', 'Amirkabir University of Technology', 'Ardabil Technical and Vocational University', 'Bonab Faculty of Engineering', 'Bu-Ali Sina University']\n",
      "False\n",
      "False\n",
      "['Ale-Taha Institute Of Higher Education', 'Alzahra University', 'Amirkabir University of Technology', 'Azad University of Lahijan', 'Babol University of Technology']\n",
      "False\n"
     ]
    }
   ],
   "source": [
    "# updating all university names\n",
    "from universities import get_university_name\n",
    "for c in contests:    \n",
    "    c.update_university_names(get_university_name)\n",
    "    print(sorted(c.get_unique_university_names())[:5])\n"
   ]
  },
  {
   "cell_type": "code",
   "execution_count": 13,
   "metadata": {},
   "outputs": [
    {
     "name": "stdout",
     "output_type": "stream",
     "text": [
      "   year ranking              name                       university solved  \\\n",
      "0  2014       1            Saboon  Sharif University of Technology     10   \n",
      "1  2014       2     We miss iliad  Sharif University of Technology      9   \n",
      "2  2014       3         Shire Aab  Sharif University of Technology      9   \n",
      "3  2014       4  Carrots in Black  Sharif University of Technology      8   \n",
      "4  2014       5             iliad  Sharif University of Technology      8   \n",
      "\n",
      "  penalty pa_time pb_time pc_time pd_time pe_time pf_time pg_time ph_time  \\\n",
      "0    1080       2       9      96      16     111      29      93     261   \n",
      "1    1035       2      28     165      20     141      77      54       0   \n",
      "2    1123       4      11      51      47     234      16     129     175   \n",
      "3     748       3      19      70      35     235     117      95       0   \n",
      "4     751       5      13      39      21     240      66      50     237   \n",
      "\n",
      "  pi_time pj_time pk_time pl_time pm_time pn_time  \n",
      "0     179     144       0      10     NaN     NaN  \n",
      "1     212     196       0       9     NaN     NaN  \n",
      "2       0     296       0       9     NaN     NaN  \n",
      "3     134       0       0       8     NaN     NaN  \n",
      "4       0       0       0       8     NaN     NaN  \n",
      "   year ranking                  name                       university solved  \\\n",
      "0  2015       1              CrockPot  Sharif University of Technology      9   \n",
      "1  2015       2       Iliad is coming  Sharif University of Technology      7   \n",
      "2  2015       3             blueberry  Sharif University of Technology      7   \n",
      "3  2015       4                SRM 48  Sharif University of Technology      7   \n",
      "4  2015       5  in 1010101 we trust!       Shahid Beheshti University      6   \n",
      "\n",
      "  penalty pa_time pb_time pc_time pd_time pe_time pf_time pg_time ph_time  \\\n",
      "0    1194      10       8     238       0     141     151      58      68   \n",
      "1     756       4      10       0       0     110       0      51     125   \n",
      "2     898      17      15       0       0      71     291     217      68   \n",
      "3    1022       5      15     299       0     153       0     128      78   \n",
      "4     633      20      16       0       0     195       0     118     139   \n",
      "\n",
      "  pi_time pj_time pk_time pl_time pm_time pn_time  \n",
      "0     210     190       9     NaN     NaN     NaN  \n",
      "1     260     116       7     NaN     NaN     NaN  \n",
      "2       0     159       7     NaN     NaN     NaN  \n",
      "3       0     164       7     NaN     NaN     NaN  \n",
      "4       0     105       6     NaN     NaN     NaN  \n",
      "   year ranking       name                       university solved penalty  \\\n",
      "0  2016       1   CrockPot  Sharif University of Technology     12    1538   \n",
      "1  2016       2      Mabva  Sharif University of Technology     12    1791   \n",
      "2  2016       3   KMJ Fans  Sharif University of Technology     10    1088   \n",
      "3  2016       4     mruxim  Sharif University of Technology     10    1312   \n",
      "4  2016       5  NesheTeam             University of Tehran      7     776   \n",
      "\n",
      "  pa_time pb_time pc_time pd_time pe_time pf_time pg_time ph_time pi_time  \\\n",
      "0       2       5      18     125     260     232      35     150      51   \n",
      "1       3       9      19      54     158     270      37     243     199   \n",
      "2       3       8      20      38     276       0      26     153     289   \n",
      "3       3       8      32      51     236     162      35     140     202   \n",
      "4       5      25      48      71       0       0      18     268     221   \n",
      "\n",
      "  pj_time pk_time pl_time pm_time pn_time  \n",
      "0     144     194     162      12     NaN  \n",
      "1     203     237     119      12     NaN  \n",
      "2     156       0      79      10     NaN  \n",
      "3     283       0       0      10     NaN  \n",
      "4       0       0       0       7     NaN  \n",
      "   year ranking        name                       university solved penalty  \\\n",
      "0  2017       1      Cliché  Sharif University of Technology      9    1206   \n",
      "1  2017       2  On The Way  Sharif University of Technology      7     625   \n",
      "2  2017       3  NeshesTeam             University of Tehran      7     741   \n",
      "3  2017       4       MABVA  Sharif University of Technology      7     788   \n",
      "4  2017       5  Hash_Array  Sharif University of Technology      7     962   \n",
      "\n",
      "  pa_time pb_time pc_time pd_time pe_time pf_time pg_time ph_time pi_time  \\\n",
      "0       4       9       0     171      27       0     241      37     261   \n",
      "1       4      31       0     193      51       0      62      75       0   \n",
      "2       3      11       0     155      55       0     148      79     290   \n",
      "3       2       9       0     286      53       0     105      57     196   \n",
      "4       2       7       0     284      34       0     258      44       0   \n",
      "\n",
      "  pj_time pk_time pl_time pm_time pn_time  \n",
      "0     229     107       9     NaN     NaN  \n",
      "1     169       0       7     NaN     NaN  \n",
      "2       0       0       7     NaN     NaN  \n",
      "3       0       0       7     NaN     NaN  \n",
      "4     233       0       7     NaN     NaN  \n",
      "   year ranking                    name                          university  \\\n",
      "0  2018       1                Kolompeh     Sharif University of Technology   \n",
      "1  2018       2    Oh Toh! We're coming     Sharif University of Technology   \n",
      "2  2018       3                Kamerana     Sharif University of Technology   \n",
      "3  2018       4  Deadlines Deadpolygons     Sharif University of Technology   \n",
      "4  2018       5   Temporarily Rebellion  Amirkabir University of Technology   \n",
      "\n",
      "  solved penalty pa_time pb_time pc_time pd_time pe_time pf_time pg_time  \\\n",
      "0     10    1399       5       9     290     219     170      62       0   \n",
      "1      9    1008      11      10     281     146      98     160       0   \n",
      "2      8     677       7      14       0     157     187     123       0   \n",
      "3      8     804       4      14       0     158     207      78       0   \n",
      "4      7     938      19      10       0     257       0     135       0   \n",
      "\n",
      "  ph_time pi_time pj_time pk_time pl_time pm_time pn_time  \n",
      "0      70      37     215     162      10     NaN     NaN  \n",
      "1      33      22       0     167       9     NaN     NaN  \n",
      "2      94      25       0      70       8     NaN     NaN  \n",
      "3      68      22       0     113       8     NaN     NaN  \n",
      "4     107      29       0     221       7     NaN     NaN  \n",
      "   year ranking              name                       university solved  \\\n",
      "0  2014       1            Saboon  Sharif University of Technology     10   \n",
      "1  2014       2     We miss iliad  Sharif University of Technology      9   \n",
      "2  2014       3         Shire Aab  Sharif University of Technology      9   \n",
      "3  2014       4  Carrots in Black  Sharif University of Technology      8   \n",
      "4  2014       5             iliad  Sharif University of Technology      8   \n",
      "\n",
      "  penalty pa_time pb_time pc_time pd_time pe_time pf_time pg_time ph_time  \\\n",
      "0    1080       2       9      96      16     111      29      93     261   \n",
      "1    1035       2      28     165      20     141      77      54       0   \n",
      "2    1123       4      11      51      47     234      16     129     175   \n",
      "3     748       3      19      70      35     235     117      95       0   \n",
      "4     751       5      13      39      21     240      66      50     237   \n",
      "\n",
      "  pi_time pj_time pk_time pl_time pm_time pn_time  \n",
      "0     179     144       0      10     NaN     NaN  \n",
      "1     212     196       0       9     NaN     NaN  \n",
      "2       0     296       0       9     NaN     NaN  \n",
      "3     134       0       0       8     NaN     NaN  \n",
      "4       0       0       0       8     NaN     NaN  \n"
     ]
    }
   ],
   "source": [
    "# creating a csv from all the data to be used by DataFrame from now on\n",
    "import pandas as pd\n",
    "df = pd.DataFrame(columns=df_columns)\n",
    "for c in contests:\n",
    "    df = df.append(c.get_df(), ignore_index=True)\n",
    "df.to_csv(\"standings_data.csv\", index=False)"
   ]
  },
  {
   "cell_type": "code",
   "execution_count": 14,
   "metadata": {},
   "outputs": [
    {
     "name": "stdout",
     "output_type": "stream",
     "text": [
      "University of Tehran\n",
      "Fasa University\n"
     ]
    }
   ],
   "source": [
    "from universities import get_university_name\n",
    "\n",
    "print(get_university_name('U of Tehran Eng'))\n",
    "print(get_university_name('Fasa U'))\n"
   ]
  },
  {
   "cell_type": "code",
   "execution_count": null,
   "metadata": {},
   "outputs": [],
   "source": []
  }
 ],
 "metadata": {
  "kernelspec": {
   "display_name": "Python 3",
   "language": "python",
   "name": "python3"
  },
  "language_info": {
   "codemirror_mode": {
    "name": "ipython",
    "version": 3
   },
   "file_extension": ".py",
   "mimetype": "text/x-python",
   "name": "python",
   "nbconvert_exporter": "python",
   "pygments_lexer": "ipython3",
   "version": "3.7.3"
  }
 },
 "nbformat": 4,
 "nbformat_minor": 2
}
